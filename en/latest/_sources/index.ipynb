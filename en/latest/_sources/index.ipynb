{
 "cells": [
  {
   "cell_type": "markdown",
   "metadata": {},
   "source": [
    "# Scientific Programming for QCB"
   ]
  },
  {
   "cell_type": "markdown",
   "metadata": {
    "raw_mimetype": "text/html"
   },
   "source": [
    "\n",
    " Download: [PDF](http://readthedocs.org/projects/qcbsciprolab2020/downloads/pdf/latest/)\n",
    "           [EPUB](http://readthedocs.org/projects/qcbsciprolab2020/downloads/epub/latest/)\n",
    "           [HTML](http://readthedocs.org/projects/qcbsciprolab2020/downloads/htmlzip/latest/)\n",
    " <br/>\n",
    " <br/>"
   ]
  },
  {
   "cell_type": "markdown",
   "metadata": {},
   "source": [
    "# General Info\n",
    "\n",
    "The contacts to reach me can be found [at this page](http://www.fmach.it/CRI/info-generali/organizzazione/Biologia-computazionale/BIANCO-LUCA).\n",
    "\n",
    "## Timetable and lecture rooms\n",
    "\n",
    "Due to the current situation regarding the Covid-19 pandemic, Practicals will take place ONLINE this year. They will be held on **Mondays from 14:30 to 16:30** and on **Wednesdays from 11:30 to 12:30**.\n",
    "\n",
    "Practicals will use the Zoom platform (https://zoom.us/) and the link for the connection will be published on the practical page available in this site a few minutes before the start of the session.\n",
    "\n",
    "This first part of the course will tentatively run from **Wednesday, September 23rd, 2020 to Monday, November 2nd, 2020**.\n",
    "\n",
    "\n",
    "## Moodle\n",
    "\n",
    "In the moodle page of the course you can find announcements and videos of the lectures. It can be found [here](https://didatticaonline.unitn.it/dol/course/view.php?id=25445). \n",
    "\n",
    "\n",
    "## Zoom links\n",
    "\n",
    "The zoom links for the practicals can be found in the Announcements section of the moodle web page. To get you started quickly, I report them here:\n",
    "\n",
    "\n",
    "Join Zoom Meeting\n",
    "https://unitn.zoom.us/j/97253388646\n",
    "\n",
    "Meeting ID: 972 5338 8646\n",
    "Passcode: 794500\n",
    "\n",
    "\n",
    "\n",
    "## Slides\n",
    "\n",
    "Slides of the practicals will be available on the top part of each practical page.\n",
    "\n",
    "\n",
    "## Acknowledgements\n",
    "\n",
    "I would like to thank Dr. David Leoni for all his help and for sharing Jupman with me.\n",
    "I would also like to thank Dr. Stefano Teso for allowing us to use some of his material of a previous course.\n"
   ]
  }
 ],
 "metadata": {
  "celltoolbar": "Edit Metadata",
  "kernelspec": {
   "display_name": "Python 3",
   "language": "python",
   "name": "python3"
  },
  "language_info": {
   "codemirror_mode": {
    "name": "ipython",
    "version": 3
   },
   "file_extension": ".py",
   "mimetype": "text/x-python",
   "name": "python",
   "nbconvert_exporter": "python",
   "pygments_lexer": "ipython3",
   "version": "3.6.9"
  },
  "toc": {
   "base_numbering": 1,
   "nav_menu": {},
   "number_sections": false,
   "sideBar": true,
   "skip_h1_title": false,
   "title_cell": "Table of Contents",
   "title_sidebar": "Contents",
   "toc_cell": false,
   "toc_position": {},
   "toc_section_display": true,
   "toc_window_display": false
  }
 },
 "nbformat": 4,
 "nbformat_minor": 2
}
